{
 "cells": [
  {
   "cell_type": "markdown",
   "metadata": {},
   "source": [
    "## Ejercicio 1 ##"
   ]
  },
  {
   "cell_type": "markdown",
   "metadata": {},
   "source": []
  },
  {
   "cell_type": "markdown",
   "metadata": {},
   "source": [
    "IMG\n",
    "<center><img src=\"001.jpg\" alt=\"Descripción de la imagen\" style=\"width:500px;height:auto;\"></center>"
   ]
  },
  {
   "cell_type": "markdown",
   "metadata": {},
   "source": [
    "**int id:**   Asigna un identificador unico a cada instancia al empleado `Employee`  \n",
    "**int new_id:**  Variable global de `Employee`  \n",
    "**void say_id:**  imprime el `id` de la instancia  \n"
   ]
  },
  {
   "cell_type": "code",
   "execution_count": 23,
   "metadata": {},
   "outputs": [],
   "source": [
    "class Employee:\n",
    "    new_id = 1 #variables de clase\n",
    "    \n",
    "    def __init__ (self, name, age): #instncias se ejecuta cuando se instancia el objeto    este es el construcot \n",
    "        self.id = Employee.new_id\n",
    "        self.name = name  \n",
    "        self.age = age#name no es una variable global, la estan pasando por eso va sin Employee\n",
    "        Employee.new_id += 1\n",
    "     \n",
    "    def say_id(self): # metodo para saber el id\n",
    "        print(f'Mi name es {self.name} y id es { self.id} y tengo mis tiernos {self.age}')\n",
    "\n",
    "    "
   ]
  },
  {
   "cell_type": "code",
   "execution_count": 24,
   "metadata": {},
   "outputs": [
    {
     "name": "stdout",
     "output_type": "stream",
     "text": [
      "Mi name es savana y id es 1 y tengo mis tiernos 50\n",
      "Mi name es Dakota y id es 2 y tengo mis tiernos 39\n"
     ]
    }
   ],
   "source": [
    "savana = Employee('savana', 50)   #crear un objeto\n",
    "savana.say_id()       # Se instancio em metodo say id\n",
    "\n",
    "\n",
    "Dakota = Employee('Dakota', 39)\n",
    "Dakota.say_id()"
   ]
  }
 ],
 "metadata": {
  "kernelspec": {
   "display_name": "Python 3",
   "language": "python",
   "name": "python3"
  },
  "language_info": {
   "codemirror_mode": {
    "name": "ipython",
    "version": 3
   },
   "file_extension": ".py",
   "mimetype": "text/x-python",
   "name": "python",
   "nbconvert_exporter": "python",
   "pygments_lexer": "ipython3",
   "version": "3.12.4"
  }
 },
 "nbformat": 4,
 "nbformat_minor": 2
}
